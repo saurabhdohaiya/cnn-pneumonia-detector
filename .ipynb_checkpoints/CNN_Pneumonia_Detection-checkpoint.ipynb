{
 "cells": [
  {
   "cell_type": "markdown",
   "metadata": {},
   "source": [
    "# ITW 3 Python Project - Pneumonia detection using Chest X-Ray images by Convolutional Neural Network "
   ]
  },
  {
   "cell_type": "markdown",
   "metadata": {
    "id": "EMefrVPCg-60"
   },
   "source": [
    "### Importing the libraries"
   ]
  },
  {
   "cell_type": "code",
   "execution_count": 1,
   "metadata": {
    "id": "sCV30xyVhFbE",
    "outputId": "febc2276-a4c9-4770-fa41-33d47ac10cdb"
   },
   "outputs": [],
   "source": [
    "import tensorflow as tf\n",
    "import numpy as np\n",
    "import matplotlib.pyplot as plt\n",
    "\n",
    "# Importing image generator module\n",
    "from keras.preprocessing import image\n",
    "from keras.preprocessing.image import ImageDataGenerator\n",
    "\n",
    "#Importing os module for saving model in h5 format\n",
    "import os.path\n",
    "from tensorflow.keras.models import load_model\n",
    "\n",
    "#Importing for confusion matrix and classification matrix\n",
    "from sklearn.metrics import classification_report, confusion_matrix"
   ]
  },
  {
   "cell_type": "code",
   "execution_count": 2,
   "metadata": {},
   "outputs": [
    {
     "name": "stdout",
     "output_type": "stream",
     "text": [
      "2.6.1\n",
      "1.19.5\n"
     ]
    }
   ],
   "source": [
    "# Verifying versions of imported library\n",
    "print(tf.__version__)\n",
    "print(np.__version__)"
   ]
  },
  {
   "cell_type": "markdown",
   "metadata": {
    "id": "oxQxCBWyoGPE"
   },
   "source": [
    "## Part 1 - Data Preprocessing"
   ]
  },
  {
   "cell_type": "markdown",
   "metadata": {
    "id": "mrCMmGw9pHys"
   },
   "source": [
    "### Preprocessing the Training set"
   ]
  },
  {
   "cell_type": "code",
   "execution_count": 3,
   "metadata": {
    "id": "cFns73yFPm_u",
    "outputId": "7df107ba-a456-43cf-8f0f-e64d5f3ed8b4"
   },
   "outputs": [
    {
     "name": "stdout",
     "output_type": "stream",
     "text": [
      "Found 5216 images belonging to 2 classes.\n"
     ]
    }
   ],
   "source": [
    "train_datagen = ImageDataGenerator(\n",
    "        shear_range = 0.2,\n",
    "        zoom_range = 0.2, \n",
    "        horizontal_flip = True,\n",
    "        rescale = 1./255)\n",
    "\n",
    "training_set = train_datagen.flow_from_directory(\n",
    "    'pneumonia_image_datasets/training_set',\n",
    "    target_size = (64, 64),\n",
    "    batch_size = 32,\n",
    "    class_mode = 'binary')"
   ]
  },
  {
   "cell_type": "markdown",
   "metadata": {
    "id": "HMi5SgIu5TIU"
   },
   "source": [
    "### Preprocessing the Test set"
   ]
  },
  {
   "cell_type": "code",
   "execution_count": 4,
   "metadata": {
    "id": "NkiBzSAN5UOV",
    "outputId": "2678c84c-6be5-46be-ef05-bda41897fb52"
   },
   "outputs": [
    {
     "name": "stdout",
     "output_type": "stream",
     "text": [
      "Found 625 images belonging to 2 classes.\n"
     ]
    }
   ],
   "source": [
    "test_datagen = ImageDataGenerator(rescale = 1./255)\n",
    "test_set = test_datagen.flow_from_directory('pneumonia_image_datasets/test_set',\n",
    "                                            target_size = (64, 64),\n",
    "                                            batch_size = 32,\n",
    "                                            class_mode = 'binary')"
   ]
  },
  {
   "cell_type": "markdown",
   "metadata": {
    "id": "af8O4l90gk7B"
   },
   "source": [
    "## Part 2 - Building the CNN"
   ]
  },
  {
   "cell_type": "markdown",
   "metadata": {
    "id": "ces1gXY2lmoX"
   },
   "source": [
    "### Initialising the CNN"
   ]
  },
  {
   "cell_type": "code",
   "execution_count": 5,
   "metadata": {
    "id": "SAUt4UMPlhLS"
   },
   "outputs": [],
   "source": [
    "cnn = tf.keras.models.Sequential()"
   ]
  },
  {
   "cell_type": "markdown",
   "metadata": {
    "id": "u5YJj_XMl5LF"
   },
   "source": [
    "### Step 1 - Convolution"
   ]
  },
  {
   "cell_type": "code",
   "execution_count": 6,
   "metadata": {
    "id": "XPzPrMckl-hV",
    "outputId": "ccc5070a-ffee-4d09-a2f0-4ef027e49a64"
   },
   "outputs": [],
   "source": [
    "cnn.add(tf.keras.layers.Conv2D(filters=32, kernel_size=3, activation='relu', input_shape=[64, 64, 3]))\n",
    "cnn.add(tf.keras.layers.MaxPool2D(pool_size=2, strides=2))"
   ]
  },
  {
   "cell_type": "markdown",
   "metadata": {
    "id": "tf87FpvxmNOJ"
   },
   "source": [
    "### Step 2 -  Adding a second convolutional layer and Pooling"
   ]
  },
  {
   "cell_type": "code",
   "execution_count": 7,
   "metadata": {
    "id": "ncpqPl69mOac"
   },
   "outputs": [],
   "source": [
    "cnn.add(tf.keras.layers.Conv2D(filters=64, kernel_size=3, activation='relu'))\n",
    "#pooling second layer\n",
    "cnn.add(tf.keras.layers.MaxPool2D(pool_size=2, strides=2))"
   ]
  },
  {
   "cell_type": "markdown",
   "metadata": {
    "id": "xaTOgD8rm4mU"
   },
   "source": [
    "### Step 3 - Adding a third convolutional layer and Pooling"
   ]
  },
  {
   "cell_type": "code",
   "execution_count": 8,
   "metadata": {
    "id": "i_-FZjn_m8gk"
   },
   "outputs": [],
   "source": [
    "cnn.add(tf.keras.layers.Conv2D(filters=128, kernel_size=3, activation='relu'))\n",
    "#pooling third layer\n",
    "cnn.add(tf.keras.layers.MaxPool2D(pool_size=2, strides=2))"
   ]
  },
  {
   "cell_type": "markdown",
   "metadata": {
    "id": "tmiEuvTunKfk"
   },
   "source": [
    "### Step 3 - Flattening"
   ]
  },
  {
   "cell_type": "code",
   "execution_count": 9,
   "metadata": {
    "id": "6AZeOGCvnNZn"
   },
   "outputs": [],
   "source": [
    "cnn.add(tf.keras.layers.Flatten())"
   ]
  },
  {
   "cell_type": "markdown",
   "metadata": {
    "id": "dAoSECOm203v"
   },
   "source": [
    "### Step 4 - Full connection"
   ]
  },
  {
   "cell_type": "code",
   "execution_count": 10,
   "metadata": {},
   "outputs": [],
   "source": [
    "cnn.add(tf.keras.layers.Dense(units=120, activation='relu'))\n"
   ]
  },
  {
   "cell_type": "markdown",
   "metadata": {
    "id": "dAoSECOm203v"
   },
   "source": [
    "### Step 5 - Dropout Layer"
   ]
  },
  {
   "cell_type": "code",
   "execution_count": 11,
   "metadata": {
    "id": "8GtmUlLd26Nq"
   },
   "outputs": [],
   "source": [
    "cnn.add(tf.keras.layers.Dropout(rate=0.2))"
   ]
  },
  {
   "cell_type": "markdown",
   "metadata": {
    "id": "yTldFvbX28Na"
   },
   "source": [
    "### Step 5 - Output Layer"
   ]
  },
  {
   "cell_type": "code",
   "execution_count": 12,
   "metadata": {
    "id": "1p_Zj1Mc3Ko_"
   },
   "outputs": [],
   "source": [
    "cnn.add(tf.keras.layers.Dense(units=1, activation='sigmoid'))"
   ]
  },
  {
   "cell_type": "markdown",
   "metadata": {
    "id": "dAoSECOm203v"
   },
   "source": [
    "### Step 6 - Summary"
   ]
  },
  {
   "cell_type": "code",
   "execution_count": 5,
   "metadata": {},
   "outputs": [
    {
     "name": "stdout",
     "output_type": "stream",
     "text": [
      "Model: \"sequential\"\n",
      "_________________________________________________________________\n",
      "Layer (type)                 Output Shape              Param #   \n",
      "=================================================================\n",
      "conv2d (Conv2D)              (None, 62, 62, 32)        896       \n",
      "_________________________________________________________________\n",
      "max_pooling2d (MaxPooling2D) (None, 31, 31, 32)        0         \n",
      "_________________________________________________________________\n",
      "conv2d_1 (Conv2D)            (None, 29, 29, 64)        18496     \n",
      "_________________________________________________________________\n",
      "max_pooling2d_1 (MaxPooling2 (None, 14, 14, 64)        0         \n",
      "_________________________________________________________________\n",
      "conv2d_2 (Conv2D)            (None, 12, 12, 128)       73856     \n",
      "_________________________________________________________________\n",
      "max_pooling2d_2 (MaxPooling2 (None, 6, 6, 128)         0         \n",
      "_________________________________________________________________\n",
      "flatten (Flatten)            (None, 4608)              0         \n",
      "_________________________________________________________________\n",
      "dense (Dense)                (None, 120)               553080    \n",
      "_________________________________________________________________\n",
      "dropout (Dropout)            (None, 120)               0         \n",
      "_________________________________________________________________\n",
      "dense_1 (Dense)              (None, 1)                 121       \n",
      "=================================================================\n",
      "Total params: 646,449\n",
      "Trainable params: 646,449\n",
      "Non-trainable params: 0\n",
      "_________________________________________________________________\n"
     ]
    }
   ],
   "source": [
    "cnn.summary()"
   ]
  },
  {
   "cell_type": "markdown",
   "metadata": {
    "id": "D6XkI90snSDl"
   },
   "source": [
    "## Part 3 - Training the CNN"
   ]
  },
  {
   "cell_type": "markdown",
   "metadata": {
    "id": "vfrFQACEnc6i"
   },
   "source": [
    "### Compiling the CNN"
   ]
  },
  {
   "cell_type": "code",
   "execution_count": 14,
   "metadata": {
    "id": "NALksrNQpUlJ"
   },
   "outputs": [],
   "source": [
    "cnn.compile(optimizer = 'adam',\n",
    "            loss = 'binary_crossentropy',\n",
    "            metrics = ['accuracy'],\n",
    "           )"
   ]
  },
  {
   "cell_type": "markdown",
   "metadata": {
    "id": "ehS-v3MIpX2h"
   },
   "source": [
    "### Training the CNN on the Training set and evaluating it on the Test set"
   ]
  },
  {
   "cell_type": "code",
   "execution_count": 15,
   "metadata": {
    "id": "XUj1W4PJptta",
    "outputId": "625a19bb-5ff0-4cdd-cc2e-a10ed36044c6"
   },
   "outputs": [
    {
     "name": "stdout",
     "output_type": "stream",
     "text": [
      "Epoch 1/32\n",
      "163/163 [==============================] - 65s 398ms/step - loss: 0.4071 - accuracy: 0.8236 - val_loss: 0.3535 - val_accuracy: 0.8464\n",
      "Epoch 2/32\n",
      "163/163 [==============================] - 64s 391ms/step - loss: 0.2365 - accuracy: 0.9003 - val_loss: 0.3318 - val_accuracy: 0.8688\n",
      "Epoch 3/32\n",
      "163/163 [==============================] - 64s 390ms/step - loss: 0.2035 - accuracy: 0.9201 - val_loss: 0.5358 - val_accuracy: 0.8112\n",
      "Epoch 4/32\n",
      "163/163 [==============================] - 64s 391ms/step - loss: 0.1813 - accuracy: 0.9294 - val_loss: 0.3986 - val_accuracy: 0.8688\n",
      "Epoch 5/32\n",
      "163/163 [==============================] - 64s 391ms/step - loss: 0.1815 - accuracy: 0.9264 - val_loss: 0.2418 - val_accuracy: 0.9168\n",
      "Epoch 6/32\n",
      "163/163 [==============================] - 64s 393ms/step - loss: 0.1565 - accuracy: 0.9383 - val_loss: 0.3478 - val_accuracy: 0.8896\n",
      "Epoch 7/32\n",
      "163/163 [==============================] - 64s 392ms/step - loss: 0.1591 - accuracy: 0.9406 - val_loss: 0.4972 - val_accuracy: 0.8560\n",
      "Epoch 8/32\n",
      "163/163 [==============================] - 64s 395ms/step - loss: 0.1431 - accuracy: 0.9456 - val_loss: 0.2663 - val_accuracy: 0.9136\n",
      "Epoch 9/32\n",
      "163/163 [==============================] - 64s 394ms/step - loss: 0.1382 - accuracy: 0.9477 - val_loss: 0.3291 - val_accuracy: 0.8928\n",
      "Epoch 10/32\n",
      "163/163 [==============================] - 64s 394ms/step - loss: 0.1341 - accuracy: 0.9482 - val_loss: 0.3282 - val_accuracy: 0.8848\n",
      "Epoch 11/32\n",
      "163/163 [==============================] - 64s 390ms/step - loss: 0.1295 - accuracy: 0.9509 - val_loss: 0.3772 - val_accuracy: 0.8688\n",
      "Epoch 12/32\n",
      "163/163 [==============================] - 64s 390ms/step - loss: 0.1327 - accuracy: 0.9475 - val_loss: 0.3329 - val_accuracy: 0.9056\n",
      "Epoch 13/32\n",
      "163/163 [==============================] - 64s 390ms/step - loss: 0.1227 - accuracy: 0.9523 - val_loss: 0.3618 - val_accuracy: 0.9152\n",
      "Epoch 14/32\n",
      "163/163 [==============================] - 64s 390ms/step - loss: 0.1180 - accuracy: 0.9559 - val_loss: 0.3016 - val_accuracy: 0.9248\n",
      "Epoch 15/32\n",
      "163/163 [==============================] - 63s 389ms/step - loss: 0.1152 - accuracy: 0.9576 - val_loss: 0.4438 - val_accuracy: 0.8800\n",
      "Epoch 16/32\n",
      "163/163 [==============================] - 64s 391ms/step - loss: 0.1090 - accuracy: 0.9599 - val_loss: 0.2867 - val_accuracy: 0.9168\n",
      "Epoch 17/32\n",
      "163/163 [==============================] - 64s 393ms/step - loss: 0.1134 - accuracy: 0.9569 - val_loss: 0.2430 - val_accuracy: 0.9232\n",
      "Epoch 18/32\n",
      "163/163 [==============================] - 64s 392ms/step - loss: 0.1139 - accuracy: 0.9576 - val_loss: 0.3042 - val_accuracy: 0.9104\n",
      "Epoch 19/32\n",
      "163/163 [==============================] - 64s 391ms/step - loss: 0.1082 - accuracy: 0.9611 - val_loss: 0.3780 - val_accuracy: 0.8720\n",
      "Epoch 20/32\n",
      "163/163 [==============================] - 64s 391ms/step - loss: 0.1027 - accuracy: 0.9636 - val_loss: 0.3188 - val_accuracy: 0.8944\n",
      "Epoch 21/32\n",
      "163/163 [==============================] - 64s 390ms/step - loss: 0.0991 - accuracy: 0.9624 - val_loss: 0.2595 - val_accuracy: 0.9120\n",
      "Epoch 22/32\n",
      "163/163 [==============================] - 64s 392ms/step - loss: 0.1109 - accuracy: 0.9582 - val_loss: 0.2833 - val_accuracy: 0.9088\n",
      "Epoch 23/32\n",
      "163/163 [==============================] - 65s 396ms/step - loss: 0.1012 - accuracy: 0.9643 - val_loss: 0.2553 - val_accuracy: 0.9120\n",
      "Epoch 24/32\n",
      "163/163 [==============================] - 64s 392ms/step - loss: 0.0947 - accuracy: 0.9638 - val_loss: 0.3346 - val_accuracy: 0.9056\n",
      "Epoch 25/32\n",
      "163/163 [==============================] - 64s 392ms/step - loss: 0.0920 - accuracy: 0.9670 - val_loss: 0.3016 - val_accuracy: 0.9104\n",
      "Epoch 26/32\n",
      "163/163 [==============================] - 64s 390ms/step - loss: 0.0913 - accuracy: 0.9684 - val_loss: 0.3877 - val_accuracy: 0.9088\n",
      "Epoch 27/32\n",
      "163/163 [==============================] - 64s 393ms/step - loss: 0.0958 - accuracy: 0.9617 - val_loss: 0.2951 - val_accuracy: 0.9136\n",
      "Epoch 28/32\n",
      "163/163 [==============================] - 64s 391ms/step - loss: 0.0878 - accuracy: 0.9680 - val_loss: 0.2093 - val_accuracy: 0.9264\n",
      "Epoch 29/32\n",
      "163/163 [==============================] - 64s 392ms/step - loss: 0.0935 - accuracy: 0.9666 - val_loss: 0.2574 - val_accuracy: 0.9040\n",
      "Epoch 30/32\n",
      "163/163 [==============================] - 64s 391ms/step - loss: 0.0916 - accuracy: 0.9649 - val_loss: 0.3436 - val_accuracy: 0.9104\n",
      "Epoch 31/32\n",
      "163/163 [==============================] - 63s 389ms/step - loss: 0.0819 - accuracy: 0.9701 - val_loss: 0.2725 - val_accuracy: 0.9168\n",
      "Epoch 32/32\n",
      "163/163 [==============================] - 63s 390ms/step - loss: 0.0888 - accuracy: 0.9670 - val_loss: 0.2813 - val_accuracy: 0.9152\n"
     ]
    }
   ],
   "source": [
    "es = tf.keras.callbacks.EarlyStopping(patience=15, monitor='val_accuracy', restore_best_weights=True)\n",
    "history = cnn.fit(x = training_set,\n",
    "                  validation_data = test_set,\n",
    "                  epochs = 32,\n",
    "                  batch_size = 8,\n",
    "                  callbacks = [es])"
   ]
  },
  {
   "cell_type": "markdown",
   "metadata": {
    "id": "U3PZasO0006Z"
   },
   "source": [
    "## Part 4 - Making a classification report and Accuracy matrics"
   ]
  },
  {
   "cell_type": "code",
   "execution_count": null,
   "metadata": {},
   "outputs": [],
   "source": [
    "acc = history.history['accuracy']\n",
    "val_acc = history.history['val_accuracy']\n",
    "loss = history.history['loss']\n",
    "val_loss = history.history['val_loss']\n",
    "\n",
    "epochs_range = range(32)\n",
    "\n",
    "plt.figure(figsize=(32, 32))\n",
    "plt.subplot(2, 2, 1)\n",
    "plt.plot(epochs_range, acc, label='Training Accuracy')\n",
    "plt.plot(epochs_range, val_acc, label='Validation Accuracy')\n",
    "plt.legend(loc='lower right')\n",
    "plt.title('Training and Validation Accuracy')\n",
    "\n",
    "plt.subplot(2, 2, 2)\n",
    "plt.plot(epochs_range, loss, label='Training Loss')\n",
    "plt.plot(epochs_range, val_loss, label='Validation Loss')\n",
    "plt.legend(loc='upper right')\n",
    "plt.title('Training and Validation Loss')\n",
    "plt.show()"
   ]
  },
  {
   "cell_type": "markdown",
   "metadata": {
    "id": "U3PZasO0006Z"
   },
   "source": [
    "## Part 5 - Saving and loading the model"
   ]
  },
  {
   "cell_type": "code",
   "execution_count": 5,
   "metadata": {},
   "outputs": [],
   "source": [
    "# For saving the model\n",
    "# if os.path.isfile('model.h5') is False:\n",
    "#     cnn.save('model.h5')\n",
    "\n",
    "#For loading the model again\n",
    "cnn = load_model('model.h5')"
   ]
  },
  {
   "cell_type": "markdown",
   "metadata": {},
   "source": [
    "## Part 6 - Making a prediction"
   ]
  },
  {
   "cell_type": "code",
   "execution_count": 7,
   "metadata": {},
   "outputs": [
    {
     "name": "stdout",
     "output_type": "stream",
     "text": [
      "\n",
      "Result : \n",
      "It's a normal sample\n"
     ]
    }
   ],
   "source": [
    "from keras.preprocessing import image\n",
    "test_image = image.load_img('person1950_bacteria_4881.jpeg', target_size = (64, 64))\n",
    "test_image = image.img_to_array(test_image)\n",
    "test_image = np.expand_dims(test_image, axis = 0)\n",
    "result = cnn.predict(test_image)\n",
    "training_set.class_indices\n",
    "if result[0][0] > 0.5:\n",
    "    prediction = \"It's a pneumonia sample\"\n",
    "else : \n",
    "    prediction = \"It's a normal sample\"\n",
    "\n",
    "print(\"\\nResult : \")\n",
    "print(prediction)\n",
    "\n",
    "# For printing classification report\n",
    "# predictions = cnn.predict_classes(training_set)\n",
    "# predictions = predictions.reshape(1,-1)[0]\n",
    "# print(classification_report(test_set, predictions, target_names = ['Pneumonia (Class 0)','Normal (Class 1)']))"
   ]
  },
  {
   "cell_type": "code",
   "execution_count": null,
   "metadata": {},
   "outputs": [],
   "source": []
  }
 ],
 "metadata": {
  "colab": {
   "collapsed_sections": [],
   "name": "ITW3_Project_CNN_Lung_Cancer_Detection.ipynb",
   "provenance": [],
   "toc_visible": true
  },
  "kernelspec": {
   "display_name": "Python 3",
   "language": "python",
   "name": "python3"
  },
  "language_info": {
   "codemirror_mode": {
    "name": "ipython",
    "version": 3
   },
   "file_extension": ".py",
   "mimetype": "text/x-python",
   "name": "python",
   "nbconvert_exporter": "python",
   "pygments_lexer": "ipython3",
   "version": "3.8.8"
  }
 },
 "nbformat": 4,
 "nbformat_minor": 1
}
